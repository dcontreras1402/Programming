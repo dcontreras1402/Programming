{
 "cells": [
  {
   "cell_type": "markdown",
   "id": "dbf28717",
   "metadata": {},
   "source": [
    "## **Análisis**"
   ]
  },
  {
   "cell_type": "markdown",
   "id": "4390c858",
   "metadata": {},
   "source": [
    "### El ejercicio busca simular 100 lanzamientos de una moneda para contar cuántas veces cae \"cara\" y cuántas \"sello\".\n",
    "- objetivo: Contar el número de caras y sellos en 100 lanzamientos.\n",
    "\n",
    "- Simulación: Se utiliza un número aleatorio entre 0 y 1 para representar los resultados (1 = cara, 0 = sello).\n",
    "\n",
    "- Conteo: se utiliza un diccionario para almacenar y llevar la cuenta de los resultados con claves como 'caras' y 'sellos'\n",
    "\n",
    "- Proceso: bucle de 100 iteraciones genera un número en cada repetición. Un condicional ``if/else`` incrementará el contador correspondiente en el diccionario según el resultado (0 o 1). Al final se imprimen los totales."
   ]
  },
  {
   "cell_type": "markdown",
   "id": "5d074250",
   "metadata": {},
   "source": [
    "## **Pseudocódigo**"
   ]
  },
  {
   "cell_type": "markdown",
   "id": "c94cbaa7",
   "metadata": {},
   "source": [
    "```pseudocode\n",
    "INICIO\n",
    "  DEFINIR \"resultados\" como un diccionario vacío con claves 'caras' y 'sellos' inicializadas en 0\n",
    "\n",
    "  REPETIR 100 veces:\n",
    "    GENERAR un número aleatorio entre 0 y 1\n",
    "    SI el número es 1:\n",
    "      INCREMENTAR el valor de 'caras' en \"resultados\"\n",
    "    SINO:\n",
    "      INCREMENTAR el valor de 'sellos' en \"resultados\"\n",
    "    FIN SI\n",
    "\n",
    "  MOSTRAR \"El número de caras es: \" + \"resultados\"['caras']\n",
    "  MOSTRAR \"El número de sellos es: \" + \"resultados\"['sellos']\n",
    "FIN"
   ]
  },
  {
   "cell_type": "markdown",
   "id": "f49d6ef8",
   "metadata": {},
   "source": [
    "## **Script**"
   ]
  },
  {
   "cell_type": "code",
   "execution_count": 25,
   "id": "35c30d26",
   "metadata": {},
   "outputs": [
    {
     "name": "stdout",
     "output_type": "stream",
     "text": [
      "El número de caras es: 4982\n",
      "El número de sellos es: 5018\n"
     ]
    }
   ],
   "source": [
    "import random\n",
    "\n",
    "resultados = {'caras': 0,'sellos': 0}\n",
    "\n",
    "# Simular 100 lanzamientos de moneda\n",
    "for _ in range(10000):\n",
    "    lanzamiento = random.randint(0, 1)\n",
    "\n",
    "    # Contar el resultado del lanzamiento\n",
    "    if lanzamiento == 1:\n",
    "        resultados['caras'] += 1\n",
    "    else:\n",
    "        resultados['sellos'] += 1\n",
    "\n",
    "print(\"El número de caras es:\", resultados['caras'])\n",
    "print(\"El número de sellos es:\", resultados['sellos'])"
   ]
  }
 ],
 "metadata": {
  "kernelspec": {
   "display_name": "Python 3",
   "language": "python",
   "name": "python3"
  },
  "language_info": {
   "codemirror_mode": {
    "name": "ipython",
    "version": 3
   },
   "file_extension": ".py",
   "mimetype": "text/x-python",
   "name": "python",
   "nbconvert_exporter": "python",
   "pygments_lexer": "ipython3",
   "version": "3.12.10"
  }
 },
 "nbformat": 4,
 "nbformat_minor": 5
}
